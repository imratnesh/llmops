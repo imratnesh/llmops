{
 "cells": [
  {
   "cell_type": "code",
   "execution_count": 2,
   "metadata": {},
   "outputs": [],
   "source": [
    "from kfp import dsl\n",
    "from kfp import compiler\n",
    "from kfp.v2 import compiler as v2_compiler\n",
    "from kfp.v2.dsl import pipeline\n",
    "# from kfp.v2.local import LocalClient\n",
    "\n",
    "# # Initialize the local client\n",
    "# client = LocalClient()\n",
    "from kfp import dsl\n",
    "# import kfp.local  # Import the local runtime\n",
    "\n",
    "# # Initialize the local runner\n",
    "# runner = kfp.local.LocalRunner()"
   ]
  },
  {
   "cell_type": "code",
   "execution_count": 15,
   "metadata": {},
   "outputs": [
    {
     "name": "stderr",
     "output_type": "stream",
     "text": [
      "/Users/ratnesh/Documents/llmops/.venv/lib/python3.11/site-packages/kfp/dsl/component_decorator.py:126: FutureWarning: The default base_image used by the @dsl.component decorator will switch from 'python:3.9' to 'python:3.10' on Oct 1, 2025. To ensure your existing components work with versions of the KFP SDK released after that date, you should provide an explicit base_image argument and ensure your component works as intended on Python 3.10.\n",
      "  return component_factory.create_component_from_func(\n"
     ]
    }
   ],
   "source": [
    "@dsl.component\n",
    "def say_hello(name: str) -> str:\n",
    "    hello_text = f\"Hello {name}\"\n",
    "    return hello_text"
   ]
  },
  {
   "cell_type": "code",
   "execution_count": 16,
   "metadata": {},
   "outputs": [],
   "source": [
    "### Simple example: component 2\n",
    "@dsl.component\n",
    "def how_are_you(hello_text: str) -> str:\n",
    "    \n",
    "    how_are_you = f\"{hello_text}. How are you?\"\n",
    "    \n",
    "    return how_are_you"
   ]
  },
  {
   "cell_type": "code",
   "execution_count": null,
   "metadata": {},
   "outputs": [
    {
     "ename": "RuntimeError",
     "evalue": "Local environment not initialized. Please run 'kfp.local.init()' before executing tasks locally.",
     "output_type": "error",
     "traceback": [
      "\u001b[31m---------------------------------------------------------------------------\u001b[39m",
      "\u001b[31mRuntimeError\u001b[39m                              Traceback (most recent call last)",
      "\u001b[36mCell\u001b[39m\u001b[36m \u001b[39m\u001b[32mIn[18]\u001b[39m\u001b[32m, line 13\u001b[39m\n\u001b[32m     10\u001b[39m     \u001b[38;5;28;01mreturn\u001b[39;00m how_are_you\n\u001b[32m     12\u001b[39m \u001b[38;5;66;03m# Test the components locally\u001b[39;00m\n\u001b[32m---> \u001b[39m\u001b[32m13\u001b[39m hello_result = \u001b[43msay_hello\u001b[49m\u001b[43m(\u001b[49m\u001b[43mname\u001b[49m\u001b[43m=\u001b[49m\u001b[33;43m'\u001b[39;49m\u001b[33;43mRatnesh\u001b[39;49m\u001b[33;43m'\u001b[39;49m\u001b[43m)\u001b[49m\n\u001b[32m     14\u001b[39m \u001b[38;5;28mprint\u001b[39m(hello_result)\n\u001b[32m     16\u001b[39m how_are_you_result = how_are_you(hello_text=hello_result)\n",
      "\u001b[36mFile \u001b[39m\u001b[32m~/Documents/llmops/.venv/lib/python3.11/site-packages/kfp/dsl/base_component.py:101\u001b[39m, in \u001b[36mBaseComponent.__call__\u001b[39m\u001b[34m(self, *args, **kwargs)\u001b[39m\n\u001b[32m     94\u001b[39m     arguments = \u001b[33m'\u001b[39m\u001b[33m, \u001b[39m\u001b[33m'\u001b[39m.join(\n\u001b[32m     95\u001b[39m         arg_name.replace(\u001b[33m'\u001b[39m\u001b[33m-\u001b[39m\u001b[33m'\u001b[39m, \u001b[33m'\u001b[39m\u001b[33m_\u001b[39m\u001b[33m'\u001b[39m) \u001b[38;5;28;01mfor\u001b[39;00m arg_name \u001b[38;5;129;01min\u001b[39;00m missing_arguments)\n\u001b[32m     97\u001b[39m     \u001b[38;5;28;01mraise\u001b[39;00m \u001b[38;5;167;01mTypeError\u001b[39;00m(\n\u001b[32m     98\u001b[39m         \u001b[33mf\u001b[39m\u001b[33m'\u001b[39m\u001b[38;5;132;01m{\u001b[39;00m\u001b[38;5;28mself\u001b[39m.name\u001b[38;5;132;01m}\u001b[39;00m\u001b[33m() missing \u001b[39m\u001b[38;5;132;01m{\u001b[39;00m\u001b[38;5;28mlen\u001b[39m(missing_arguments)\u001b[38;5;132;01m}\u001b[39;00m\u001b[33m required \u001b[39m\u001b[33m'\u001b[39m\n\u001b[32m     99\u001b[39m         \u001b[33mf\u001b[39m\u001b[33m'\u001b[39m\u001b[38;5;132;01m{\u001b[39;00margument_or_arguments\u001b[38;5;132;01m}\u001b[39;00m\u001b[33m: \u001b[39m\u001b[38;5;132;01m{\u001b[39;00marguments\u001b[38;5;132;01m}\u001b[39;00m\u001b[33m.\u001b[39m\u001b[33m'\u001b[39m)\n\u001b[32m--> \u001b[39m\u001b[32m101\u001b[39m \u001b[38;5;28;01mreturn\u001b[39;00m \u001b[43mpipeline_task\u001b[49m\u001b[43m.\u001b[49m\u001b[43mPipelineTask\u001b[49m\u001b[43m(\u001b[49m\n\u001b[32m    102\u001b[39m \u001b[43m    \u001b[49m\u001b[43mcomponent_spec\u001b[49m\u001b[43m=\u001b[49m\u001b[38;5;28;43mself\u001b[39;49m\u001b[43m.\u001b[49m\u001b[43mcomponent_spec\u001b[49m\u001b[43m,\u001b[49m\n\u001b[32m    103\u001b[39m \u001b[43m    \u001b[49m\u001b[43margs\u001b[49m\u001b[43m=\u001b[49m\u001b[43mtask_inputs\u001b[49m\u001b[43m,\u001b[49m\n\u001b[32m    104\u001b[39m \u001b[43m    \u001b[49m\u001b[43mexecute_locally\u001b[49m\u001b[43m=\u001b[49m\u001b[43mpipeline_context\u001b[49m\u001b[43m.\u001b[49m\u001b[43mPipeline\u001b[49m\u001b[43m.\u001b[49m\u001b[43mget_default_pipeline\u001b[49m\u001b[43m(\u001b[49m\u001b[43m)\u001b[49m\u001b[43m \u001b[49m\u001b[38;5;129;43;01mis\u001b[39;49;00m\n\u001b[32m    105\u001b[39m \u001b[43m    \u001b[49m\u001b[38;5;28;43;01mNone\u001b[39;49;00m\u001b[43m,\u001b[49m\n\u001b[32m    106\u001b[39m \u001b[43m    \u001b[49m\u001b[43mexecution_caching_default\u001b[49m\u001b[43m=\u001b[49m\u001b[43mpipeline_context\u001b[49m\u001b[43m.\u001b[49m\u001b[43mPipeline\u001b[49m\n\u001b[32m    107\u001b[39m \u001b[43m    \u001b[49m\u001b[43m.\u001b[49m\u001b[43mget_execution_caching_default\u001b[49m\u001b[43m(\u001b[49m\u001b[43m)\u001b[49m\u001b[43m,\u001b[49m\n\u001b[32m    108\u001b[39m \u001b[43m\u001b[49m\u001b[43m)\u001b[49m\n",
      "\u001b[36mFile \u001b[39m\u001b[32m~/Documents/llmops/.venv/lib/python3.11/site-packages/kfp/dsl/pipeline_task.py:187\u001b[39m, in \u001b[36mPipelineTask.__init__\u001b[39m\u001b[34m(self, component_spec, args, execute_locally, execution_caching_default, execution_cache_key)\u001b[39m\n\u001b[32m    178\u001b[39m \u001b[38;5;28mself\u001b[39m._channel_inputs = [\n\u001b[32m    179\u001b[39m     value \u001b[38;5;28;01mfor\u001b[39;00m _, value \u001b[38;5;129;01min\u001b[39;00m args.items()\n\u001b[32m    180\u001b[39m     \u001b[38;5;28;01mif\u001b[39;00m \u001b[38;5;28misinstance\u001b[39m(value, pipeline_channel.PipelineChannel)\n\u001b[32m   (...)\u001b[39m\u001b[32m    183\u001b[39m     \u001b[38;5;28;01mif\u001b[39;00m \u001b[38;5;129;01mnot\u001b[39;00m \u001b[38;5;28misinstance\u001b[39m(value, pipeline_channel.PipelineChannel)\n\u001b[32m    184\u001b[39m ])\n\u001b[32m    186\u001b[39m \u001b[38;5;28;01mif\u001b[39;00m execute_locally:\n\u001b[32m--> \u001b[39m\u001b[32m187\u001b[39m     \u001b[38;5;28;43mself\u001b[39;49m\u001b[43m.\u001b[49m\u001b[43m_execute_locally\u001b[49m\u001b[43m(\u001b[49m\u001b[43margs\u001b[49m\u001b[43m=\u001b[49m\u001b[43margs\u001b[49m\u001b[43m)\u001b[49m\n",
      "\u001b[36mFile \u001b[39m\u001b[32m~/Documents/llmops/.venv/lib/python3.11/site-packages/kfp/dsl/pipeline_task.py:202\u001b[39m, in \u001b[36mPipelineTask._execute_locally\u001b[39m\u001b[34m(self, args)\u001b[39m\n\u001b[32m    197\u001b[39m     \u001b[38;5;28mself\u001b[39m._outputs = pipeline_orchestrator.run_local_pipeline(\n\u001b[32m    198\u001b[39m         pipeline_spec=\u001b[38;5;28mself\u001b[39m.pipeline_spec,\n\u001b[32m    199\u001b[39m         arguments=args,\n\u001b[32m    200\u001b[39m     )\n\u001b[32m    201\u001b[39m \u001b[38;5;28;01melif\u001b[39;00m \u001b[38;5;28mself\u001b[39m.component_spec \u001b[38;5;129;01mis\u001b[39;00m \u001b[38;5;129;01mnot\u001b[39;00m \u001b[38;5;28;01mNone\u001b[39;00m:\n\u001b[32m--> \u001b[39m\u001b[32m202\u001b[39m     \u001b[38;5;28mself\u001b[39m._outputs = \u001b[43mtask_dispatcher\u001b[49m\u001b[43m.\u001b[49m\u001b[43mrun_single_task\u001b[49m\u001b[43m(\u001b[49m\n\u001b[32m    203\u001b[39m \u001b[43m        \u001b[49m\u001b[43mpipeline_spec\u001b[49m\u001b[43m=\u001b[49m\u001b[38;5;28;43mself\u001b[39;49m\u001b[43m.\u001b[49m\u001b[43mcomponent_spec\u001b[49m\u001b[43m.\u001b[49m\u001b[43mto_pipeline_spec\u001b[49m\u001b[43m(\u001b[49m\u001b[43m)\u001b[49m\u001b[43m,\u001b[49m\n\u001b[32m    204\u001b[39m \u001b[43m        \u001b[49m\u001b[43marguments\u001b[49m\u001b[43m=\u001b[49m\u001b[43margs\u001b[49m\u001b[43m,\u001b[49m\n\u001b[32m    205\u001b[39m \u001b[43m    \u001b[49m\u001b[43m)\u001b[49m\n\u001b[32m    206\u001b[39m \u001b[38;5;28;01melse\u001b[39;00m:\n\u001b[32m    207\u001b[39m     \u001b[38;5;66;03m# user should never hit this\u001b[39;00m\n\u001b[32m    208\u001b[39m     \u001b[38;5;28;01mraise\u001b[39;00m \u001b[38;5;167;01mValueError\u001b[39;00m(\n\u001b[32m    209\u001b[39m         \u001b[33m'\u001b[39m\u001b[33mOne of pipeline_spec or component_spec must not be None for local execution.\u001b[39m\u001b[33m'\u001b[39m\n\u001b[32m    210\u001b[39m     )\n",
      "\u001b[36mFile \u001b[39m\u001b[32m~/Documents/llmops/.venv/lib/python3.11/site-packages/kfp/local/task_dispatcher.py:45\u001b[39m, in \u001b[36mrun_single_task\u001b[39m\u001b[34m(pipeline_spec, arguments)\u001b[39m\n\u001b[32m     32\u001b[39m \u001b[38;5;28;01mdef\u001b[39;00m\u001b[38;5;250m \u001b[39m\u001b[34mrun_single_task\u001b[39m(\n\u001b[32m     33\u001b[39m     pipeline_spec: pipeline_spec_pb2.PipelineSpec,\n\u001b[32m     34\u001b[39m     arguments: Dict[\u001b[38;5;28mstr\u001b[39m, Any],\n\u001b[32m     35\u001b[39m ) -> Dict[\u001b[38;5;28mstr\u001b[39m, Any]:\n\u001b[32m     36\u001b[39m \u001b[38;5;250m    \u001b[39m\u001b[33;03m\"\"\"Runs a single component from its compiled PipelineSpec.\u001b[39;00m\n\u001b[32m     37\u001b[39m \n\u001b[32m     38\u001b[39m \u001b[33;03m    Args:\u001b[39;00m\n\u001b[32m   (...)\u001b[39m\u001b[32m     43\u001b[39m \u001b[33;03m        A LocalTask instance.\u001b[39;00m\n\u001b[32m     44\u001b[39m \u001b[33;03m    \"\"\"\u001b[39;00m\n\u001b[32m---> \u001b[39m\u001b[32m45\u001b[39m     \u001b[43mconfig\u001b[49m\u001b[43m.\u001b[49m\u001b[43mLocalExecutionConfig\u001b[49m\u001b[43m.\u001b[49m\u001b[43mvalidate\u001b[49m\u001b[43m(\u001b[49m\u001b[43m)\u001b[49m\n\u001b[32m     46\u001b[39m     component_name, component_spec = \u001b[38;5;28mlist\u001b[39m(pipeline_spec.components.items())[\u001b[32m0\u001b[39m]\n\u001b[32m     47\u001b[39m     executor_spec = get_executor_spec(\n\u001b[32m     48\u001b[39m         pipeline_spec,\n\u001b[32m     49\u001b[39m         component_spec.executor_label,\n\u001b[32m     50\u001b[39m     )\n",
      "\u001b[36mFile \u001b[39m\u001b[32m~/Documents/llmops/.venv/lib/python3.11/site-packages/kfp/local/config.py:93\u001b[39m, in \u001b[36mLocalExecutionConfig.validate\u001b[39m\u001b[34m(cls)\u001b[39m\n\u001b[32m     90\u001b[39m \u001b[38;5;129m@classmethod\u001b[39m\n\u001b[32m     91\u001b[39m \u001b[38;5;28;01mdef\u001b[39;00m\u001b[38;5;250m \u001b[39m\u001b[34mvalidate\u001b[39m(\u001b[38;5;28mcls\u001b[39m):\n\u001b[32m     92\u001b[39m     \u001b[38;5;28;01mif\u001b[39;00m \u001b[38;5;28mcls\u001b[39m.instance \u001b[38;5;129;01mis\u001b[39;00m \u001b[38;5;28;01mNone\u001b[39;00m:\n\u001b[32m---> \u001b[39m\u001b[32m93\u001b[39m         \u001b[38;5;28;01mraise\u001b[39;00m \u001b[38;5;167;01mRuntimeError\u001b[39;00m(\n\u001b[32m     94\u001b[39m             \u001b[33mf\u001b[39m\u001b[33m\"\u001b[39m\u001b[33mLocal environment not initialized. Please run \u001b[39m\u001b[33m'\u001b[39m\u001b[38;5;132;01m{\u001b[39;00mlocal.\u001b[34m__name__\u001b[39m\u001b[38;5;132;01m}\u001b[39;00m\u001b[33m.\u001b[39m\u001b[38;5;132;01m{\u001b[39;00minit.\u001b[34m__name__\u001b[39m\u001b[38;5;132;01m}\u001b[39;00m\u001b[33m()\u001b[39m\u001b[33m'\u001b[39m\u001b[33m before executing tasks locally.\u001b[39m\u001b[33m\"\u001b[39m\n\u001b[32m     95\u001b[39m         )\n",
      "\u001b[31mRuntimeError\u001b[39m: Local environment not initialized. Please run 'kfp.local.init()' before executing tasks locally."
     ]
    }
   ],
   "source": [
    "result = say_hello(name='Ratnesh')"
   ]
  },
  {
   "cell_type": "code",
   "execution_count": null,
   "metadata": {},
   "outputs": [
    {
     "name": "stdout",
     "output_type": "stream",
     "text": [
      "{{channel:task=say-hello;name=Output;type=String;}}\n"
     ]
    },
    {
     "name": "stderr",
     "output_type": "stream",
     "text": [
      "/Users/ratnesh/Documents/llmops/.venv/lib/python3.11/site-packages/kfp/dsl/component_decorator.py:126: FutureWarning: The default base_image used by the @dsl.component decorator will switch from 'python:3.9' to 'python:3.10' on Oct 1, 2025. To ensure your existing components work with versions of the KFP SDK released after that date, you should provide an explicit base_image argument and ensure your component works as intended on Python 3.10.\n",
      "  return component_factory.create_component_from_func(\n"
     ]
    },
    {
     "ename": "ValueError",
     "evalue": "Pipeline or component output not defined: Output. You may be missing a type annotation.",
     "output_type": "error",
     "traceback": [
      "\u001b[31m---------------------------------------------------------------------------\u001b[39m",
      "\u001b[31mValueError\u001b[39m                                Traceback (most recent call last)",
      "\u001b[36mCell\u001b[39m\u001b[36m \u001b[39m\u001b[32mIn[5]\u001b[39m\u001b[32m, line 14\u001b[39m\n\u001b[32m     11\u001b[39m     \u001b[38;5;28;01mreturn\u001b[39;00m \u001b[33mf\u001b[39m\u001b[33m\"\u001b[39m\u001b[38;5;132;01m{\u001b[39;00mhello_text\u001b[38;5;132;01m}\u001b[39;00m\u001b[33m. How are you?\u001b[39m\u001b[33m\"\u001b[39m\n\u001b[32m     13\u001b[39m \u001b[38;5;66;03m# Define a pipeline to connect components\u001b[39;00m\n\u001b[32m---> \u001b[39m\u001b[32m14\u001b[39m \u001b[38;5;129;43m@dsl\u001b[39;49m\u001b[43m.\u001b[49m\u001b[43mpipeline\u001b[49m\u001b[43m(\u001b[49m\u001b[43mname\u001b[49m\u001b[43m=\u001b[49m\u001b[33;43m\"\u001b[39;49m\u001b[33;43mgreeting-pipeline\u001b[39;49m\u001b[33;43m\"\u001b[39;49m\u001b[43m)\u001b[49m\n\u001b[32m     15\u001b[39m \u001b[38;5;28;43;01mdef\u001b[39;49;00m\u001b[38;5;250;43m \u001b[39;49m\u001b[34;43mgreeting_pipeline\u001b[39;49m\u001b[43m(\u001b[49m\u001b[43mrecipient\u001b[49m\u001b[43m:\u001b[49m\u001b[43m \u001b[49m\u001b[38;5;28;43mstr\u001b[39;49m\u001b[43m)\u001b[49m\u001b[43m:\u001b[49m\n\u001b[32m     16\u001b[39m \u001b[43m    \u001b[49m\u001b[43mhello_task\u001b[49m\u001b[43m \u001b[49m\u001b[43m=\u001b[49m\u001b[43m \u001b[49m\u001b[43msay_hello\u001b[49m\u001b[43m(\u001b[49m\u001b[43mname\u001b[49m\u001b[43m=\u001b[49m\u001b[43mrecipient\u001b[49m\u001b[43m)\u001b[49m\n\u001b[32m     17\u001b[39m \u001b[43m    \u001b[49m\u001b[38;5;28;43mprint\u001b[39;49m\u001b[43m(\u001b[49m\u001b[43mhello_task\u001b[49m\u001b[43m.\u001b[49m\u001b[43moutput\u001b[49m\u001b[43m)\u001b[49m\n",
      "\u001b[36mFile \u001b[39m\u001b[32m~/Documents/llmops/.venv/lib/python3.11/site-packages/kfp/dsl/pipeline_context.py:71\u001b[39m, in \u001b[36mpipeline\u001b[39m\u001b[34m(func, name, description, pipeline_root, display_name, pipeline_config)\u001b[39m\n\u001b[32m     68\u001b[39m \u001b[38;5;28;01mif\u001b[39;00m pipeline_root:\n\u001b[32m     69\u001b[39m     func.pipeline_root = pipeline_root\n\u001b[32m---> \u001b[39m\u001b[32m71\u001b[39m \u001b[38;5;28;01mreturn\u001b[39;00m \u001b[43mcomponent_factory\u001b[49m\u001b[43m.\u001b[49m\u001b[43mcreate_graph_component_from_func\u001b[49m\u001b[43m(\u001b[49m\n\u001b[32m     72\u001b[39m \u001b[43m    \u001b[49m\u001b[43mfunc\u001b[49m\u001b[43m,\u001b[49m\n\u001b[32m     73\u001b[39m \u001b[43m    \u001b[49m\u001b[43mname\u001b[49m\u001b[43m=\u001b[49m\u001b[43mname\u001b[49m\u001b[43m,\u001b[49m\n\u001b[32m     74\u001b[39m \u001b[43m    \u001b[49m\u001b[43mdescription\u001b[49m\u001b[43m=\u001b[49m\u001b[43mdescription\u001b[49m\u001b[43m,\u001b[49m\n\u001b[32m     75\u001b[39m \u001b[43m    \u001b[49m\u001b[43mdisplay_name\u001b[49m\u001b[43m=\u001b[49m\u001b[43mdisplay_name\u001b[49m\u001b[43m,\u001b[49m\n\u001b[32m     76\u001b[39m \u001b[43m    \u001b[49m\u001b[43mpipeline_config\u001b[49m\u001b[43m=\u001b[49m\u001b[43mpipeline_config\u001b[49m\u001b[43m,\u001b[49m\n\u001b[32m     77\u001b[39m \u001b[43m\u001b[49m\u001b[43m)\u001b[49m\n",
      "\u001b[36mFile \u001b[39m\u001b[32m~/Documents/llmops/.venv/lib/python3.11/site-packages/kfp/dsl/component_factory.py:708\u001b[39m, in \u001b[36mcreate_graph_component_from_func\u001b[39m\u001b[34m(func, name, description, display_name, pipeline_config)\u001b[39m\n\u001b[32m    697\u001b[39m \u001b[38;5;250m\u001b[39m\u001b[33;03m\"\"\"Implementation for the @pipeline decorator.\u001b[39;00m\n\u001b[32m    698\u001b[39m \n\u001b[32m    699\u001b[39m \u001b[33;03mThe decorator is defined under pipeline_context.py. See the\u001b[39;00m\n\u001b[32m    700\u001b[39m \u001b[33;03mdecorator for the canonical documentation for this function.\u001b[39;00m\n\u001b[32m    701\u001b[39m \u001b[33;03m\"\"\"\u001b[39;00m\n\u001b[32m    703\u001b[39m component_spec = extract_component_interface(\n\u001b[32m    704\u001b[39m     func,\n\u001b[32m    705\u001b[39m     description=description,\n\u001b[32m    706\u001b[39m     name=name,\n\u001b[32m    707\u001b[39m )\n\u001b[32m--> \u001b[39m\u001b[32m708\u001b[39m \u001b[38;5;28;01mreturn\u001b[39;00m \u001b[43mgraph_component\u001b[49m\u001b[43m.\u001b[49m\u001b[43mGraphComponent\u001b[49m\u001b[43m(\u001b[49m\n\u001b[32m    709\u001b[39m \u001b[43m    \u001b[49m\u001b[43mcomponent_spec\u001b[49m\u001b[43m=\u001b[49m\u001b[43mcomponent_spec\u001b[49m\u001b[43m,\u001b[49m\n\u001b[32m    710\u001b[39m \u001b[43m    \u001b[49m\u001b[43mpipeline_func\u001b[49m\u001b[43m=\u001b[49m\u001b[43mfunc\u001b[49m\u001b[43m,\u001b[49m\n\u001b[32m    711\u001b[39m \u001b[43m    \u001b[49m\u001b[43mdisplay_name\u001b[49m\u001b[43m=\u001b[49m\u001b[43mdisplay_name\u001b[49m\u001b[43m,\u001b[49m\n\u001b[32m    712\u001b[39m \u001b[43m    \u001b[49m\u001b[43mpipeline_config\u001b[49m\u001b[43m=\u001b[49m\u001b[43mpipeline_config\u001b[49m\u001b[43m,\u001b[49m\n\u001b[32m    713\u001b[39m \u001b[43m\u001b[49m\u001b[43m)\u001b[49m\n",
      "\u001b[36mFile \u001b[39m\u001b[32m~/Documents/llmops/.venv/lib/python3.11/site-packages/kfp/dsl/graph_component.py:71\u001b[39m, in \u001b[36mGraphComponent.__init__\u001b[39m\u001b[34m(self, component_spec, pipeline_func, display_name, pipeline_config)\u001b[39m\n\u001b[32m     68\u001b[39m pipeline_group = dsl_pipeline.groups[\u001b[32m0\u001b[39m]\n\u001b[32m     69\u001b[39m pipeline_group.name = uuid.uuid4().hex\n\u001b[32m---> \u001b[39m\u001b[32m71\u001b[39m pipeline_spec, platform_spec = \u001b[43mbuilder\u001b[49m\u001b[43m.\u001b[49m\u001b[43mcreate_pipeline_spec\u001b[49m\u001b[43m(\u001b[49m\n\u001b[32m     72\u001b[39m \u001b[43m    \u001b[49m\u001b[43mpipeline\u001b[49m\u001b[43m=\u001b[49m\u001b[43mdsl_pipeline\u001b[49m\u001b[43m,\u001b[49m\n\u001b[32m     73\u001b[39m \u001b[43m    \u001b[49m\u001b[43mcomponent_spec\u001b[49m\u001b[43m=\u001b[49m\u001b[38;5;28;43mself\u001b[39;49m\u001b[43m.\u001b[49m\u001b[43mcomponent_spec\u001b[49m\u001b[43m,\u001b[49m\n\u001b[32m     74\u001b[39m \u001b[43m    \u001b[49m\u001b[43mpipeline_outputs\u001b[49m\u001b[43m=\u001b[49m\u001b[43mpipeline_outputs\u001b[49m\u001b[43m,\u001b[49m\n\u001b[32m     75\u001b[39m \u001b[43m    \u001b[49m\u001b[43mpipeline_config\u001b[49m\u001b[43m=\u001b[49m\u001b[43mpipeline_config\u001b[49m\u001b[43m,\u001b[49m\n\u001b[32m     76\u001b[39m \u001b[43m\u001b[49m\u001b[43m)\u001b[49m\n\u001b[32m     78\u001b[39m pipeline_root = \u001b[38;5;28mgetattr\u001b[39m(pipeline_func, \u001b[33m'\u001b[39m\u001b[33mpipeline_root\u001b[39m\u001b[33m'\u001b[39m, \u001b[38;5;28;01mNone\u001b[39;00m)\n\u001b[32m     79\u001b[39m \u001b[38;5;28;01mif\u001b[39;00m pipeline_root \u001b[38;5;129;01mis\u001b[39;00m \u001b[38;5;129;01mnot\u001b[39;00m \u001b[38;5;28;01mNone\u001b[39;00m:\n",
      "\u001b[36mFile \u001b[39m\u001b[32m~/Documents/llmops/.venv/lib/python3.11/site-packages/kfp/compiler/pipeline_spec_builder.py:1918\u001b[39m, in \u001b[36mcreate_pipeline_spec\u001b[39m\u001b[34m(pipeline, component_spec, pipeline_outputs, pipeline_config)\u001b[39m\n\u001b[32m   1896\u001b[39m     build_spec_by_group(\n\u001b[32m   1897\u001b[39m         pipeline_spec=pipeline_spec,\n\u001b[32m   1898\u001b[39m         deployment_config=deployment_config,\n\u001b[32m   (...)\u001b[39m\u001b[32m   1908\u001b[39m         is_compiled_component=\u001b[38;5;28;01mFalse\u001b[39;00m,\n\u001b[32m   1909\u001b[39m     )\n\u001b[32m   1911\u001b[39m build_exit_handler_groups_recursively(\n\u001b[32m   1912\u001b[39m     parent_group=root_group,\n\u001b[32m   1913\u001b[39m     pipeline_spec=pipeline_spec,\n\u001b[32m   1914\u001b[39m     deployment_config=deployment_config,\n\u001b[32m   1915\u001b[39m     platform_spec=platform_spec,\n\u001b[32m   1916\u001b[39m )\n\u001b[32m-> \u001b[39m\u001b[32m1918\u001b[39m \u001b[43m_build_dag_outputs\u001b[49m\u001b[43m(\u001b[49m\n\u001b[32m   1919\u001b[39m \u001b[43m    \u001b[49m\u001b[43mcomponent_spec\u001b[49m\u001b[43m=\u001b[49m\u001b[43mpipeline_spec\u001b[49m\u001b[43m.\u001b[49m\u001b[43mroot\u001b[49m\u001b[43m,\u001b[49m\n\u001b[32m   1920\u001b[39m \u001b[43m    \u001b[49m\u001b[43mdag_outputs\u001b[49m\u001b[43m=\u001b[49m\u001b[43mmodified_pipeline_outputs_dict\u001b[49m\u001b[43m,\u001b[49m\n\u001b[32m   1921\u001b[39m \u001b[43m\u001b[49m\u001b[43m)\u001b[49m\n\u001b[32m   1922\u001b[39m \u001b[38;5;66;03m# call _build_dag_outputs first to verify the presence of an output annotation\u001b[39;00m\n\u001b[32m   1923\u001b[39m \u001b[38;5;66;03m# at all, then validate that the annotation is correct with _validate_dag_output_types\u001b[39;00m\n\u001b[32m   1924\u001b[39m _validate_dag_output_types(\n\u001b[32m   1925\u001b[39m     dag_outputs=modified_pipeline_outputs_dict,\n\u001b[32m   1926\u001b[39m     structures_component_spec=component_spec)\n",
      "\u001b[36mFile \u001b[39m\u001b[32m~/Documents/llmops/.venv/lib/python3.11/site-packages/kfp/compiler/pipeline_spec_builder.py:541\u001b[39m, in \u001b[36m_build_dag_outputs\u001b[39m\u001b[34m(component_spec, dag_outputs)\u001b[39m\n\u001b[32m    537\u001b[39m     \u001b[38;5;28;01mif\u001b[39;00m \u001b[38;5;129;01mnot\u001b[39;00m \u001b[38;5;28misinstance\u001b[39m(output_channel, pipeline_channel.PipelineChannel):\n\u001b[32m    538\u001b[39m         \u001b[38;5;28;01mraise\u001b[39;00m \u001b[38;5;167;01mValueError\u001b[39;00m(\n\u001b[32m    539\u001b[39m             \u001b[33mf\u001b[39m\u001b[33m\"\u001b[39m\u001b[33mGot unknown pipeline output \u001b[39m\u001b[33m'\u001b[39m\u001b[38;5;132;01m{\u001b[39;00moutput_name\u001b[38;5;132;01m}\u001b[39;00m\u001b[33m'\u001b[39m\u001b[33m of type \u001b[39m\u001b[38;5;132;01m{\u001b[39;00moutput_channel\u001b[38;5;132;01m}\u001b[39;00m\u001b[33m.\u001b[39m\u001b[33m\"\u001b[39m\n\u001b[32m    540\u001b[39m         )\n\u001b[32m--> \u001b[39m\u001b[32m541\u001b[39m     \u001b[43mconnect_single_dag_output\u001b[49m\u001b[43m(\u001b[49m\u001b[43mcomponent_spec\u001b[49m\u001b[43m,\u001b[49m\u001b[43m \u001b[49m\u001b[43moutput_name\u001b[49m\u001b[43m,\u001b[49m\u001b[43m \u001b[49m\u001b[43moutput_channel\u001b[49m\u001b[43m)\u001b[49m\n\u001b[32m    543\u001b[39m validate_dag_outputs(component_spec)\n",
      "\u001b[36mFile \u001b[39m\u001b[32m~/Documents/llmops/.venv/lib/python3.11/site-packages/kfp/compiler/pipeline_spec_builder.py:477\u001b[39m, in \u001b[36mconnect_single_dag_output\u001b[39m\u001b[34m(component_spec, output_name, output_channel)\u001b[39m\n\u001b[32m    475\u001b[39m \u001b[38;5;28;01melif\u001b[39;00m \u001b[38;5;28misinstance\u001b[39m(output_channel, pipeline_channel.PipelineParameterChannel):\n\u001b[32m    476\u001b[39m     \u001b[38;5;28;01mif\u001b[39;00m output_name \u001b[38;5;129;01mnot\u001b[39;00m \u001b[38;5;129;01min\u001b[39;00m component_spec.output_definitions.parameters:\n\u001b[32m--> \u001b[39m\u001b[32m477\u001b[39m         \u001b[38;5;28;01mraise\u001b[39;00m \u001b[38;5;167;01mValueError\u001b[39;00m(\n\u001b[32m    478\u001b[39m             \u001b[33mf\u001b[39m\u001b[33m'\u001b[39m\u001b[33mPipeline or component output not defined: \u001b[39m\u001b[38;5;132;01m{\u001b[39;00moutput_name\u001b[38;5;132;01m}\u001b[39;00m\u001b[33m. You may be missing a type annotation.\u001b[39m\u001b[33m'\u001b[39m\n\u001b[32m    479\u001b[39m         )\n\u001b[32m    480\u001b[39m     component_spec.dag.outputs.parameters[\n\u001b[32m    481\u001b[39m         output_name].value_from_parameter.producer_subtask = output_channel.task_name\n\u001b[32m    482\u001b[39m     component_spec.dag.outputs.parameters[\n\u001b[32m    483\u001b[39m         output_name].value_from_parameter.output_parameter_key = output_channel.name\n",
      "\u001b[31mValueError\u001b[39m: Pipeline or component output not defined: Output. You may be missing a type annotation."
     ]
    }
   ],
   "source": [
    "from kfp import dsl\n",
    "from kfp.v2 import compiler\n",
    "\n",
    "# Define the components\n",
    "@dsl.component\n",
    "def say_hello(name: str) -> str:\n",
    "    return f\"Hello {name}\"\n",
    "\n",
    "@dsl.component\n",
    "def how_are_you(hello_text: str) -> str:\n",
    "    return f\"{hello_text}. How are you?\"\n",
    "\n",
    "# Define a pipeline to connect components\n",
    "@dsl.pipeline(name=\"greeting-pipeline\")\n",
    "def greeting_pipeline(recipient: str):\n",
    "    hello_task = say_hello(name=recipient)\n",
    "    print(hello_task.output)\n",
    "    how_are_you_task = how_are_you(hello_text=hello_task.output)\n",
    "    return how_are_you_task.output\n",
    "    \n",
    "pipeline_arguments = {\n",
    "    \"recipient\": \"World!\",\n",
    "}\n",
    "\n",
    "# Compile the pipeline\n",
    "compiler.Compiler().compile(\n",
    "    greeting_pipeline,\n",
    "    package_path=\"greeting_pipeline.yaml\",\n",
    "    ### pipeline arguments (inputs)\n",
    "    ### {\"recipient\": \"World!\"} for this example\n",
    "    pipeline_parameters=pipeline_arguments\n",
    ")\n",
    "\n",
    "# pipeline_output = greeting_pipeline(recipient=\"Ratnesh\")\n",
    "# print(pipeline_output)\n",
    "\n",
    "# Now, you need to submit the compiled pipeline using a Kubeflow backend\n",
    "print(\"Pipeline compiled successfully. Now deploy it using KFP UI or CLI.\")\n"
   ]
  },
  {
   "cell_type": "code",
   "execution_count": 9,
   "metadata": {},
   "outputs": [
    {
     "name": "stdout",
     "output_type": "stream",
     "text": [
      "Pipeline compiled to: add_pipeline_v2.yaml\n"
     ]
    }
   ],
   "source": [
    "from kfp import compiler\n",
    "# Define a simple component\n",
    "@dsl.component\n",
    "def add(a: float, b: float) -> float:\n",
    "    \"\"\"Calculates the sum of two numbers.\"\"\"\n",
    "    return a + b\n",
    "\n",
    "\n",
    "# Define a pipeline\n",
    "@dsl.pipeline(\n",
    "    name='Add Pipeline',\n",
    "    description='A simple pipeline that adds two numbers.'\n",
    ")\n",
    "def add_pipeline(\n",
    "    a: float = 1.0,  # Default value for 'a'\n",
    "    b: float = 2.0,  # Default value for 'b'\n",
    "):\n",
    "    \"\"\"\n",
    "    This pipeline defines the steps to add two numbers.\n",
    "    \"\"\"\n",
    "    # Create a task using the 'add' component\n",
    "    add_task = add(a=a, b=b)\n",
    "\n",
    "\n",
    "\n",
    "if __name__ == '__main__':\n",
    "    # Specify the output YAML file\n",
    "    pipeline_file = 'add_pipeline_v2.yaml'\n",
    "    # Compile the pipeline\n",
    "    compiler.Compiler().compile(\n",
    "        pipeline_func=add_pipeline,\n",
    "        package_path=pipeline_file)\n",
    "    print(f\"Pipeline compiled to: {pipeline_file}\")"
   ]
  }
 ],
 "metadata": {
  "kernelspec": {
   "display_name": ".venv",
   "language": "python",
   "name": "python3"
  },
  "language_info": {
   "codemirror_mode": {
    "name": "ipython",
    "version": 3
   },
   "file_extension": ".py",
   "mimetype": "text/x-python",
   "name": "python",
   "nbconvert_exporter": "python",
   "pygments_lexer": "ipython3",
   "version": "3.11.0"
  }
 },
 "nbformat": 4,
 "nbformat_minor": 2
}
