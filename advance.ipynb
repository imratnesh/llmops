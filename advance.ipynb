{
 "cells": [
  {
   "cell_type": "code",
   "execution_count": 3,
   "metadata": {},
   "outputs": [],
   "source": [
    "from kfp import compiler, dsl\n",
    "# Define a simple component\n"
   ]
  },
  {
   "cell_type": "code",
   "execution_count": 4,
   "metadata": {},
   "outputs": [
    {
     "name": "stdout",
     "output_type": "stream",
     "text": [
      "Pipeline compiled to: mul_pipeline.yaml\n"
     ]
    },
    {
     "name": "stderr",
     "output_type": "stream",
     "text": [
      "/Users/ratnesh/Documents/llmops/.venv/lib/python3.11/site-packages/kfp/dsl/component_decorator.py:126: FutureWarning: The default base_image used by the @dsl.component decorator will switch from 'python:3.9' to 'python:3.10' on Oct 1, 2025. To ensure your existing components work with versions of the KFP SDK released after that date, you should provide an explicit base_image argument and ensure your component works as intended on Python 3.10.\n",
      "  return component_factory.create_component_from_func(\n"
     ]
    }
   ],
   "source": [
    "@dsl.component\n",
    "def multiply(a: float, b: float) -> float:\n",
    "    \"\"\"Calculates the multiply of two numbers.\"\"\"\n",
    "    return a * b\n",
    "\n",
    "\n",
    "# Define a pipeline\n",
    "@dsl.pipeline(\n",
    "    name='Multiple Pipeline',\n",
    "    description='A simple pipeline that multiply two numbers.'\n",
    ")\n",
    "def add_pipeline(\n",
    "    a: float = 1.0,  # Default value for 'a'\n",
    "    b: float = 2.0,  # Default value for 'b'\n",
    "):\n",
    "    \"\"\"\n",
    "    This pipeline defines the steps to multiply two numbers.\n",
    "    \"\"\"\n",
    "    # Create a task using the 'add' component\n",
    "    add_task = multiply(a=a, b=b)\n",
    "\n",
    "\n",
    "\n",
    "if __name__ == '__main__':\n",
    "    # Specify the output YAML file\n",
    "    pipeline_file = 'mul_pipeline.yaml'\n",
    "    # Compile the pipeline\n",
    "    compiler.Compiler().compile(\n",
    "        pipeline_func=add_pipeline,\n",
    "        package_path=pipeline_file)\n",
    "    print(f\"Pipeline compiled to: {pipeline_file}\")"
   ]
  },
  {
   "cell_type": "code",
   "execution_count": 6,
   "metadata": {},
   "outputs": [
    {
     "name": "stderr",
     "output_type": "stream",
     "text": [
      "/Users/ratnesh/Documents/llmops/.venv/lib/python3.11/site-packages/kfp/client/client.py:159: FutureWarning: This client only works with Kubeflow Pipeline v2.0.0-beta.2 and later versions.\n",
      "  warnings.warn(\n"
     ]
    },
    {
     "data": {
      "text/html": [
       "<a href=\"http://127.0.0.1:8081/#/experiments/details/10af141a-00a7-4a66-8561-a16cbfe884ea\" target=\"_blank\" >Experiment details</a>."
      ],
      "text/plain": [
       "<IPython.core.display.HTML object>"
      ]
     },
     "metadata": {},
     "output_type": "display_data"
    },
    {
     "data": {
      "text/html": [
       "<a href=\"http://127.0.0.1:8081/#/runs/details/c151f38e-02fa-460f-8622-d507bb271749\" target=\"_blank\" >Run details</a>."
      ],
      "text/plain": [
       "<IPython.core.display.HTML object>"
      ]
     },
     "metadata": {},
     "output_type": "display_data"
    },
    {
     "data": {
      "text/plain": [
       "RunPipelineResult(run_id=c151f38e-02fa-460f-8622-d507bb271749)"
      ]
     },
     "execution_count": 6,
     "metadata": {},
     "output_type": "execute_result"
    }
   ],
   "source": [
    "from kfp import Client\n",
    "client = Client(host=\"http://127.0.0.1:8081\")\n",
    "client.create_run_from_pipeline_package(\"mul_pipeline.yaml\")"
   ]
  },
  {
   "cell_type": "code",
   "execution_count": null,
   "metadata": {},
   "outputs": [],
   "source": []
  },
  {
   "cell_type": "code",
   "execution_count": null,
   "metadata": {},
   "outputs": [],
   "source": []
  },
  {
   "cell_type": "code",
   "execution_count": null,
   "metadata": {},
   "outputs": [],
   "source": []
  }
 ],
 "metadata": {
  "kernelspec": {
   "display_name": ".venv",
   "language": "python",
   "name": "python3"
  },
  "language_info": {
   "codemirror_mode": {
    "name": "ipython",
    "version": 3
   },
   "file_extension": ".py",
   "mimetype": "text/x-python",
   "name": "python",
   "nbconvert_exporter": "python",
   "pygments_lexer": "ipython3",
   "version": "3.11.0"
  }
 },
 "nbformat": 4,
 "nbformat_minor": 2
}
